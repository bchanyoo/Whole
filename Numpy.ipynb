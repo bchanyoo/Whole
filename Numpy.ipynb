{
  "nbformat": 4,
  "nbformat_minor": 0,
  "metadata": {
    "colab": {
      "provenance": [],
      "authorship_tag": "ABX9TyMOErhdgrvDf+k4Aokqu0Xg",
      "include_colab_link": true
    },
    "kernelspec": {
      "name": "python3",
      "display_name": "Python 3"
    },
    "language_info": {
      "name": "python"
    }
  },
  "cells": [
    {
      "cell_type": "markdown",
      "metadata": {
        "id": "view-in-github",
        "colab_type": "text"
      },
      "source": [
        "<a href=\"https://colab.research.google.com/github/bchanyoo/dakum/blob/main/Numpy.ipynb\" target=\"_parent\"><img src=\"https://colab.research.google.com/assets/colab-badge.svg\" alt=\"Open In Colab\"/></a>"
      ]
    },
    {
      "cell_type": "code",
      "execution_count": null,
      "metadata": {
        "id": "DP3r4c5STwrA"
      },
      "outputs": [],
      "source": [
        "# Numpy\n",
        "# c언어로 개발된) 파이썬에서 과학적 계산을 위한 핵심 라이브러리\n",
        "# 다차원 배열 객체와 함께 작동하는 도구들을 제공.\n",
        "# but, 고수준 데이터 분석 기능을 제공하진 X \n",
        "# Pandas와 같은 도구를 함께 사용함."
      ]
    },
    {
      "cell_type": "code",
      "source": [
        "import numpy as np #넘파이 배열이 생김"
      ],
      "metadata": {
        "id": "fuUScJHiUmrh"
      },
      "execution_count": null,
      "outputs": []
    },
    {
      "cell_type": "code",
      "source": [
        "arr = np.array([1,2,3,4]) #넘파이의 배열을 만든다.\n",
        "print(arr)\n",
        "print(type(arr)) #nd array, 사이즈가 큰 데이터들은 기본배열보다 넘파이배열이 장점들이 많다."
      ],
      "metadata": {
        "colab": {
          "base_uri": "https://localhost:8080/"
        },
        "id": "RB_0F2g2VJfS",
        "outputId": "4cfe9150-a296-460c-e28a-4847050427e9"
      },
      "execution_count": null,
      "outputs": [
        {
          "output_type": "stream",
          "name": "stdout",
          "text": [
            "[1 2 3 4]\n",
            "<class 'numpy.ndarray'>\n"
          ]
        }
      ]
    },
    {
      "cell_type": "code",
      "source": [
        "#zeros, ones, empty를 사용해 배열을 생성함.\n",
        "car = np.zeros((3,3)) #0으로 채워진 3x3 배열이 생긴다\n",
        "print(car) "
      ],
      "metadata": {
        "colab": {
          "base_uri": "https://localhost:8080/"
        },
        "id": "5xwMwqq3XboV",
        "outputId": "cf317933-2f91-48e0-d6a3-d58e71f280e5"
      },
      "execution_count": null,
      "outputs": [
        {
          "output_type": "stream",
          "name": "stdout",
          "text": [
            "[[0. 0. 0.]\n",
            " [0. 0. 0.]\n",
            " [0. 0. 0.]]\n"
          ]
        }
      ]
    },
    {
      "cell_type": "code",
      "source": [
        "np.ones((2,2))"
      ],
      "metadata": {
        "colab": {
          "base_uri": "https://localhost:8080/"
        },
        "id": "3zKaa1fJa18m",
        "outputId": "e0ece0e5-6166-4920-8efc-fcffc4cf90ba"
      },
      "execution_count": null,
      "outputs": [
        {
          "output_type": "execute_result",
          "data": {
            "text/plain": [
              "array([[1., 1.],\n",
              "       [1., 1.]])"
            ]
          },
          "metadata": {},
          "execution_count": 8
        }
      ]
    },
    {
      "cell_type": "code",
      "source": [
        "np.empty((4,4)) #이전에 사용하던 찌꺼기가 남아있는 것. 그래서 0or1로 초기화를 시킬 필요가 있음."
      ],
      "metadata": {
        "colab": {
          "base_uri": "https://localhost:8080/"
        },
        "id": "NbbHlWcwbBsN",
        "outputId": "fc8c3b74-718b-4a12-8962-7fea3723fa8b"
      },
      "execution_count": null,
      "outputs": [
        {
          "output_type": "execute_result",
          "data": {
            "text/plain": [
              "array([[2.75720488e-316, 0.00000000e+000, 6.01346954e-154,\n",
              "        5.98149672e-154],\n",
              "       [4.71592575e+257, 7.20358919e+159, 1.33856858e-152,\n",
              "        3.65588281e+233],\n",
              "       [1.35712977e+166, 2.31633955e-152, 3.94355938e+180,\n",
              "        1.89130905e+219],\n",
              "       [3.68321739e+180, 5.98178806e-154, 1.06758000e+224,\n",
              "        3.11079466e+161]])"
            ]
          },
          "metadata": {},
          "execution_count": 9
        }
      ]
    },
    {
      "cell_type": "code",
      "source": [
        "#특정 범위의 변수를 생성할 때 arange를 사용.\n",
        "print(np.arange(10))\n",
        "print(np.arange(1,10)) #1은 시작, 10은 끝나는 지점.\n",
        "print(np.arange(1,10,2)) # 2씩 간격을 두기기"
      ],
      "metadata": {
        "colab": {
          "base_uri": "https://localhost:8080/"
        },
        "id": "eXA-hIR-bxzB",
        "outputId": "2d9899d2-b08e-4f57-8e0d-38069501c865"
      },
      "execution_count": null,
      "outputs": [
        {
          "output_type": "stream",
          "name": "stdout",
          "text": [
            "[0 1 2 3 4 5 6 7 8 9]\n",
            "[1 2 3 4 5 6 7 8 9]\n",
            "[1 3 5 7 9]\n"
          ]
        }
      ]
    },
    {
      "cell_type": "code",
      "source": [
        "# ndarray 배열의 모양, 차수, 데이터 타입 확인해보기.\n",
        "arr = np.array([[1,2,3],[4,5,6]]) #2차원, 리스트 괄호가 두개가 열리면 2차원, 한개면 1차원, (2,3)의 배열인 것.\n",
        "print(arr)"
      ],
      "metadata": {
        "colab": {
          "base_uri": "https://localhost:8080/"
        },
        "id": "LIj6hKsmcyhQ",
        "outputId": "0999eb14-1108-4d0a-efa8-03a4a862fc47"
      },
      "execution_count": null,
      "outputs": [
        {
          "output_type": "stream",
          "name": "stdout",
          "text": [
            "[[1 2 3]\n",
            " [4 5 6]]\n"
          ]
        }
      ]
    },
    {
      "cell_type": "code",
      "source": [
        "arr.ndim #number dimension인것 같음(차원 확인)"
      ],
      "metadata": {
        "colab": {
          "base_uri": "https://localhost:8080/"
        },
        "id": "hYKs4Anhd3bc",
        "outputId": "7aaa2a6a-42d1-4ef2-fe8e-4ba78a74721d"
      },
      "execution_count": null,
      "outputs": [
        {
          "output_type": "execute_result",
          "data": {
            "text/plain": [
              "2"
            ]
          },
          "metadata": {},
          "execution_count": 18
        }
      ]
    },
    {
      "cell_type": "code",
      "source": [
        "#data 모양 확인하는 법.\n",
        "arr.shape"
      ],
      "metadata": {
        "colab": {
          "base_uri": "https://localhost:8080/"
        },
        "id": "4LP5b4CZeCJ5",
        "outputId": "8e4e2b88-41ce-4a4c-a894-da35ab60e7b8"
      },
      "execution_count": null,
      "outputs": [
        {
          "output_type": "execute_result",
          "data": {
            "text/plain": [
              "(2, 3)"
            ]
          },
          "metadata": {},
          "execution_count": 19
        }
      ]
    },
    {
      "cell_type": "code",
      "source": [
        "#data 타입의 확인\n",
        "print(type(arr))\n",
        "print(arr.dtype) # dtype은 배열 안의 데이터타입을 확인 가능.\n",
        "# int64는 64비트 정수형형이다."
      ],
      "metadata": {
        "colab": {
          "base_uri": "https://localhost:8080/"
        },
        "id": "QnMAcC-WeNlc",
        "outputId": "6f716823-a1e3-4c5a-8397-d8c577d118db"
      },
      "execution_count": null,
      "outputs": [
        {
          "output_type": "stream",
          "name": "stdout",
          "text": [
            "<class 'numpy.ndarray'>\n",
            "int64\n"
          ]
        }
      ]
    },
    {
      "cell_type": "code",
      "source": [
        "#8비트는 2의 8승, 8비트로 표현할 수 있는 숫자는 -128 ~ 0 ~ + 127까지만 표현이 가능. 130의 숫자는 표현이 불가능. \n",
        "#16비트는 2의 16승, 65536. -32768 ~ 0 ~ +32767"
      ],
      "metadata": {
        "id": "dBDF1Mqluq1o"
      },
      "execution_count": null,
      "outputs": []
    },
    {
      "cell_type": "code",
      "source": [
        "# ndarray 배열의 타입 변환\n",
        "arr_int = np.array([1,2,3,4])\n",
        "print(arr_int.dtype)\n",
        "arr_float = arr_int.astype(np.float64)\n",
        "print(arr_float.dtype)"
      ],
      "metadata": {
        "colab": {
          "base_uri": "https://localhost:8080/"
        },
        "id": "NHEtwbcBgdR7",
        "outputId": "3be10e9d-04d2-423a-da2e-833092616a6b"
      },
      "execution_count": null,
      "outputs": [
        {
          "output_type": "stream",
          "name": "stdout",
          "text": [
            "int64\n",
            "float64\n"
          ]
        }
      ]
    },
    {
      "cell_type": "code",
      "source": [
        "#문자 배열에서 숫자 배열로 변환\n",
        "arr_str = np.array(['1','2','3','4'])\n",
        "print(arr_str.dtype) #U1 = unicode 1\n",
        "arr_int = arr_str.astype(np.int64)\n",
        "print(arr_int)\n",
        "print(arr_int.dtype)"
      ],
      "metadata": {
        "colab": {
          "base_uri": "https://localhost:8080/"
        },
        "id": "AAWwkCP5hkve",
        "outputId": "8a431f3c-9d5e-4d53-b1ef-53369895af8b"
      },
      "execution_count": null,
      "outputs": [
        {
          "output_type": "stream",
          "name": "stdout",
          "text": [
            "<U1\n",
            "[1 2 3 4]\n",
            "int64\n"
          ]
        }
      ]
    },
    {
      "cell_type": "code",
      "source": [
        "#배열의 연산 기능\n",
        "arr1 = np.array([[1,2],[3,4]])\n",
        "arr2 = np.array([[5,6],[7,8]])\n",
        "print(arr1)\n",
        "print(arr2)\n",
        "print(arr1 + arr2) # 같은 차원의 숫자끼리 더해짐\n",
        "print(arr1 - arr2)\n",
        "print(arr1 * arr2)"
      ],
      "metadata": {
        "colab": {
          "base_uri": "https://localhost:8080/"
        },
        "id": "ao7tOW2Kit-G",
        "outputId": "171da5fe-995e-4864-f274-dc11fa1b29eb"
      },
      "execution_count": null,
      "outputs": [
        {
          "output_type": "stream",
          "name": "stdout",
          "text": [
            "[[1 2]\n",
            " [3 4]]\n",
            "[[5 6]\n",
            " [7 8]]\n",
            "[[ 6  8]\n",
            " [10 12]]\n",
            "[[-4 -4]\n",
            " [-4 -4]]\n",
            "[[ 5 12]\n",
            " [21 32]]\n"
          ]
        }
      ]
    },
    {
      "cell_type": "code",
      "source": [
        "#연산자 사용\n",
        "print(np.add(arr1, arr2))\n",
        "print(np.multiply(arr1, arr2))"
      ],
      "metadata": {
        "colab": {
          "base_uri": "https://localhost:8080/"
        },
        "id": "W3yJI9pXgdKG",
        "outputId": "78496b88-3afa-49fb-c16c-b8b8543996c0"
      },
      "execution_count": null,
      "outputs": [
        {
          "output_type": "stream",
          "name": "stdout",
          "text": [
            "[[ 6  8]\n",
            " [10 12]]\n",
            "[[ 5 12]\n",
            " [21 32]]\n"
          ]
        }
      ]
    },
    {
      "cell_type": "code",
      "source": [
        "#ndarray 배열 슬라이싱하기\n",
        "arr = np.array([[1,2,3],\n",
        "                [4,5,6],\n",
        "                [7,8,9]])"
      ],
      "metadata": {
        "id": "iEct5hJakhlj"
      },
      "execution_count": null,
      "outputs": []
    },
    {
      "cell_type": "code",
      "source": [
        "arr_1 = arr[:2,1:3] #0부터 2까지니 2 부분인 [7,8,9]를 먼저 끊어냄. 두번째 1에서 3까지, 세로 슬라이싱 먼저, 그다음 가로 슬라이싱싱\n",
        "print(arr_1)"
      ],
      "metadata": {
        "colab": {
          "base_uri": "https://localhost:8080/"
        },
        "id": "sA8gFESGlXXY",
        "outputId": "2f4a0f6c-3320-4ed0-c71b-69e6f1e68914"
      },
      "execution_count": null,
      "outputs": [
        {
          "output_type": "stream",
          "name": "stdout",
          "text": [
            "[[2 3]\n",
            " [5 6]]\n"
          ]
        }
      ]
    },
    {
      "cell_type": "code",
      "source": [
        "arr = np.array([[1,2,3],[4,5,6],[7,8,9]])\n",
        "print(arr)\n",
        "print(arr[0,2])"
      ],
      "metadata": {
        "colab": {
          "base_uri": "https://localhost:8080/"
        },
        "id": "ohEMFpxEmoY3",
        "outputId": "ab57fa6b-025e-4d7b-bc81-92475ffd27bb"
      },
      "execution_count": null,
      "outputs": [
        {
          "output_type": "stream",
          "name": "stdout",
          "text": [
            "[[1 2 3]\n",
            " [4 5 6]\n",
            " [7 8 9]]\n",
            "3\n"
          ]
        }
      ]
    },
    {
      "cell_type": "code",
      "source": [
        "#배열의 일정 수 이상 값을 판별하기\n",
        "arr = np.array([[1,2,3],[4,5,6]])\n",
        "idx = arr > 3\n",
        "print(idx)"
      ],
      "metadata": {
        "colab": {
          "base_uri": "https://localhost:8080/"
        },
        "id": "DX4Mv3menevO",
        "outputId": "07671af0-4e15-4837-ba00-6fe0ff1f2912"
      },
      "execution_count": null,
      "outputs": [
        {
          "output_type": "stream",
          "name": "stdout",
          "text": [
            "[[False False False]\n",
            " [ True  True  True]]\n"
          ]
        }
      ]
    },
    {
      "cell_type": "code",
      "source": [
        "arr[idx] #True 값만 출력됨."
      ],
      "metadata": {
        "colab": {
          "base_uri": "https://localhost:8080/"
        },
        "id": "AdAotB6HoDpI",
        "outputId": "57b5d65e-0dfb-4d99-d722-27767d0b62f1"
      },
      "execution_count": null,
      "outputs": [
        {
          "output_type": "execute_result",
          "data": {
            "text/plain": [
              "array([4, 5, 6])"
            ]
          },
          "metadata": {},
          "execution_count": 44
        }
      ]
    },
    {
      "cell_type": "code",
      "source": [
        "#csv file = comma separated value = 콤마로 구분되어있는 데이터\n",
        "#넘파이로 파일 불러오기\n",
        "redwine = np.loadtxt(fname='winequality-red.csv', delimiter = ';', skiprows=1) \n",
        "#레드와인 변수로 저장,\n",
        "#첫번째 줄은 건너뛰고, \n",
        "#파일의 형식이 콤마가 아닌 세미콜론으로 돼 있어서 구별자를 알려줘야함(delimeter)"
      ],
      "metadata": {
        "id": "URvQsvtLodRr"
      },
      "execution_count": null,
      "outputs": []
    },
    {
      "cell_type": "code",
      "source": [
        "print(redwine)"
      ],
      "metadata": {
        "colab": {
          "base_uri": "https://localhost:8080/"
        },
        "id": "MeolpVrAtsGu",
        "outputId": "009e2c15-a03e-4b3a-d310-13a75650803c"
      },
      "execution_count": null,
      "outputs": [
        {
          "output_type": "stream",
          "name": "stdout",
          "text": [
            "[[ 7.4    0.7    0.    ...  0.56   9.4    5.   ]\n",
            " [ 7.8    0.88   0.    ...  0.68   9.8    5.   ]\n",
            " [ 7.8    0.76   0.04  ...  0.65   9.8    5.   ]\n",
            " ...\n",
            " [ 6.3    0.51   0.13  ...  0.75  11.     6.   ]\n",
            " [ 5.9    0.645  0.12  ...  0.71  10.2    5.   ]\n",
            " [ 6.     0.31   0.47  ...  0.66  11.     6.   ]]\n"
          ]
        }
      ]
    },
    {
      "cell_type": "code",
      "source": [
        "# 기초통계함수 사용\n",
        "# sum = 합계\n",
        "# mean = 평균\n",
        "# std = standard division(표준편차)\n",
        "# var = 분산 (variance, std의 제곱)\n",
        "# min = 최소값\n",
        "# max = 최대값"
      ],
      "metadata": {
        "id": "w2rOPpkstFIn"
      },
      "execution_count": null,
      "outputs": []
    },
    {
      "cell_type": "code",
      "source": [
        "print(redwine.sum()) #데이터들의 합계\n",
        "print(redwine.sum(axis=0)) #가로축이 0번, 세로축이 1번.\n",
        "print(redwine.mean(axis=0))"
      ],
      "metadata": {
        "colab": {
          "base_uri": "https://localhost:8080/"
        },
        "id": "OrGv3GVauvFp",
        "outputId": "cd5ba723-e920-4d6d-c9eb-ed45f90b1421"
      },
      "execution_count": null,
      "outputs": [
        {
          "output_type": "stream",
          "name": "stdout",
          "text": [
            "152084.78194\n",
            "[13303.1       843.985     433.29     4059.55      139.859   25384.\n",
            " 74302.       1593.79794  5294.47     1052.38    16666.35     9012.     ]\n",
            "[ 8.31963727  0.52782051  0.27097561  2.5388055   0.08746654 15.87492183\n",
            " 46.46779237  0.99674668  3.3111132   0.65814884 10.42298311  5.63602251]\n"
          ]
        }
      ]
    },
    {
      "cell_type": "code",
      "source": [
        "print(redwine.mean(axis=1))\n",
        "#1번축은 각 항목별 평균\n",
        "#0번축은 ?"
      ],
      "metadata": {
        "colab": {
          "base_uri": "https://localhost:8080/"
        },
        "id": "Skd4hQr6wjaF",
        "outputId": "e2cf5209-1a80-4416-d021-493607f7e934"
      },
      "execution_count": null,
      "outputs": [
        {
          "output_type": "stream",
          "name": "stdout",
          "text": [
            "[ 6.21198333 10.25456667  8.30825    ...  8.37347833  8.76795583\n",
            "  7.7077075 ]\n"
          ]
        }
      ]
    },
    {
      "cell_type": "code",
      "source": [
        "print(redwine[:,0].mean()) #축의 반대로 출력됨?? 다시 공부부"
      ],
      "metadata": {
        "colab": {
          "base_uri": "https://localhost:8080/"
        },
        "id": "O1t-UGlAxgRV",
        "outputId": "e1e64989-9c37-4d97-ed48-e31c7959a4cc"
      },
      "execution_count": null,
      "outputs": [
        {
          "output_type": "stream",
          "name": "stdout",
          "text": [
            "8.31963727329581\n"
          ]
        }
      ]
    },
    {
      "cell_type": "code",
      "source": [
        "print(redwine.max(axis = 0)) #와인 평가 항목별의 최댓값"
      ],
      "metadata": {
        "colab": {
          "base_uri": "https://localhost:8080/"
        },
        "id": "6BLKY6qwzLeV",
        "outputId": "3969a9cc-bf43-44c0-8005-91fd9705902d"
      },
      "execution_count": null,
      "outputs": [
        {
          "output_type": "stream",
          "name": "stdout",
          "text": [
            "[ 15.9       1.58      1.       15.5       0.611    72.      289.\n",
            "   1.00369   4.01      2.       14.9       8.     ]\n"
          ]
        }
      ]
    },
    {
      "cell_type": "code",
      "source": [
        "print(redwine.min(axis = 0))#와인 평가 항목별의 최소값값"
      ],
      "metadata": {
        "colab": {
          "base_uri": "https://localhost:8080/"
        },
        "id": "hcFmA7ekzZHN",
        "outputId": "2fdedf39-0242-4b59-aa2c-d20afd61fb00"
      },
      "execution_count": null,
      "outputs": [
        {
          "output_type": "stream",
          "name": "stdout",
          "text": [
            "[4.6     0.12    0.      0.9     0.012   1.      6.      0.99007 2.74\n",
            " 0.33    8.4     3.     ]\n"
          ]
        }
      ]
    }
  ]
}