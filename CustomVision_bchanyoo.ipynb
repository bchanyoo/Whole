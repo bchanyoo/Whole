{
  "nbformat": 4,
  "nbformat_minor": 0,
  "metadata": {
    "colab": {
      "provenance": [],
      "authorship_tag": "ABX9TyPmZ9Y0hNkMcXiBn7/EcTUR",
      "include_colab_link": true
    },
    "kernelspec": {
      "name": "python3",
      "display_name": "Python 3"
    },
    "language_info": {
      "name": "python"
    }
  },
  "cells": [
    {
      "cell_type": "markdown",
      "metadata": {
        "id": "view-in-github",
        "colab_type": "text"
      },
      "source": [
        "<a href=\"https://colab.research.google.com/github/bchanyoo/dakum/blob/main/CustomVision_bchanyoo.ipynb\" target=\"_parent\"><img src=\"https://colab.research.google.com/assets/colab-badge.svg\" alt=\"Open In Colab\"/></a>"
      ]
    },
    {
      "cell_type": "code",
      "execution_count": 64,
      "metadata": {
        "colab": {
          "base_uri": "https://localhost:8080/"
        },
        "id": "t_HoFuAqJZdf",
        "outputId": "282ab377-2500-4c65-8c76-5d408049f6e3"
      },
      "outputs": [
        {
          "output_type": "stream",
          "name": "stdout",
          "text": [
            "Looking in indexes: https://pypi.org/simple, https://us-python.pkg.dev/colab-wheels/public/simple/\n",
            "Requirement already satisfied: azure-cognitiveservices-vision-customvision in /usr/local/lib/python3.10/dist-packages (3.1.0)\n",
            "Requirement already satisfied: msrest>=0.5.0 in /usr/local/lib/python3.10/dist-packages (from azure-cognitiveservices-vision-customvision) (0.7.1)\n",
            "Requirement already satisfied: azure-common~=1.1 in /usr/local/lib/python3.10/dist-packages (from azure-cognitiveservices-vision-customvision) (1.1.28)\n",
            "Requirement already satisfied: requests-oauthlib>=0.5.0 in /usr/local/lib/python3.10/dist-packages (from msrest>=0.5.0->azure-cognitiveservices-vision-customvision) (1.3.1)\n",
            "Requirement already satisfied: requests~=2.16 in /usr/local/lib/python3.10/dist-packages (from msrest>=0.5.0->azure-cognitiveservices-vision-customvision) (2.27.1)\n",
            "Requirement already satisfied: azure-core>=1.24.0 in /usr/local/lib/python3.10/dist-packages (from msrest>=0.5.0->azure-cognitiveservices-vision-customvision) (1.26.4)\n",
            "Requirement already satisfied: isodate>=0.6.0 in /usr/local/lib/python3.10/dist-packages (from msrest>=0.5.0->azure-cognitiveservices-vision-customvision) (0.6.1)\n",
            "Requirement already satisfied: certifi>=2017.4.17 in /usr/local/lib/python3.10/dist-packages (from msrest>=0.5.0->azure-cognitiveservices-vision-customvision) (2022.12.7)\n",
            "Requirement already satisfied: six>=1.11.0 in /usr/local/lib/python3.10/dist-packages (from azure-core>=1.24.0->msrest>=0.5.0->azure-cognitiveservices-vision-customvision) (1.16.0)\n",
            "Requirement already satisfied: typing-extensions>=4.3.0 in /usr/local/lib/python3.10/dist-packages (from azure-core>=1.24.0->msrest>=0.5.0->azure-cognitiveservices-vision-customvision) (4.5.0)\n",
            "Requirement already satisfied: idna<4,>=2.5 in /usr/local/lib/python3.10/dist-packages (from requests~=2.16->msrest>=0.5.0->azure-cognitiveservices-vision-customvision) (3.4)\n",
            "Requirement already satisfied: charset-normalizer~=2.0.0 in /usr/local/lib/python3.10/dist-packages (from requests~=2.16->msrest>=0.5.0->azure-cognitiveservices-vision-customvision) (2.0.12)\n",
            "Requirement already satisfied: urllib3<1.27,>=1.21.1 in /usr/local/lib/python3.10/dist-packages (from requests~=2.16->msrest>=0.5.0->azure-cognitiveservices-vision-customvision) (1.26.15)\n",
            "Requirement already satisfied: oauthlib>=3.0.0 in /usr/local/lib/python3.10/dist-packages (from requests-oauthlib>=0.5.0->msrest>=0.5.0->azure-cognitiveservices-vision-customvision) (3.2.2)\n"
          ]
        }
      ],
      "source": [
        "pip install azure-cognitiveservices-vision-customvision #패키지 다운로드"
      ]
    },
    {
      "cell_type": "code",
      "source": [
        "from azure.cognitiveservices.vision.customvision.training import CustomVisionTrainingClient \n",
        "from azure.cognitiveservices.vision.customvision.training.models import ImageFileCreateEntry\n",
        "from msrest.authentication import ApiKeyCredentials #authentication = 인증, training-key = 권한을 부여함. -> 이후 credential 상태. 인증과 권한 구별해두기."
      ],
      "metadata": {
        "id": "h5KtntSEKN2g"
      },
      "execution_count": 65,
      "outputs": []
    },
    {
      "cell_type": "code",
      "source": [
        "endpoint = 'https://bchanyoocustv.cognitiveservices.azure.com/'\n",
        "training_key = '9dd054919ae9440883d36e3e8fc78dd4'"
      ],
      "metadata": {
        "id": "xaaXjxkKLqaI"
      },
      "execution_count": 66,
      "outputs": []
    },
    {
      "cell_type": "code",
      "source": [
        "publish_iteration_name = 'BchanYooGreatWall_02' #배포할 이름 결정하기\n",
        "credentials = ApiKeyCredentials(\n",
        "    in_headers={'Training-key' : training_key}) #trainingkey로 credential 상태를 만들어줌."
      ],
      "metadata": {
        "id": "_F16L6JuMxTc"
      },
      "execution_count": 67,
      "outputs": []
    },
    {
      "cell_type": "code",
      "source": [
        "trainer = CustomVisionTrainingClient(endpoint, credentials) # 학습용 서비스가 trainer가 된다."
      ],
      "metadata": {
        "id": "u7bf2EenO_qD"
      },
      "execution_count": 68,
      "outputs": []
    },
    {
      "cell_type": "code",
      "source": [
        "#Create a new project\n",
        "print('Creating project....')\n",
        "project_name = 'BchanYooGreatWall_02'\n",
        "project = trainer.create_project(project_name) #애저 들어가서 태그에 맞는 사진 업로드하기."
      ],
      "metadata": {
        "colab": {
          "base_uri": "https://localhost:8080/"
        },
        "id": "1EAqFuyVPlCC",
        "outputId": "b97f120e-2ee0-467d-b487-3cdfa39a5ef9"
      },
      "execution_count": 69,
      "outputs": [
        {
          "output_type": "stream",
          "name": "stdout",
          "text": [
            "Creating project....\n"
          ]
        }
      ]
    },
    {
      "cell_type": "code",
      "source": [
        "#tag 추가\n",
        "Jajangmyeon_tag = trainer.create_tag(project.id, 'Jajangmyeon')\n",
        "Jjambbong_tag = trainer.create_tag(project.id, 'Jjambbong')\n",
        "TangsuYook_tag = trainer.create_tag(project.id, 'TangsuYook')"
      ],
      "metadata": {
        "id": "z-s8IBs5PjjE"
      },
      "execution_count": 70,
      "outputs": []
    },
    {
      "cell_type": "code",
      "source": [
        "#학습 시작하기\n",
        "import time\n",
        "\n",
        "print('Training......')\n",
        "iteration = trainer.train_project(project.id) #학습 = iteration 변수로\n",
        "while (iteration.status != 'Completed'): #학습이 종료가 아니라면 while로 계속 반복. Completed가 뜨면 while문 종료\n",
        "  iteration = trainer.get_iteration(project.id, iteration.id) #최신 상태 가져오기\n",
        "  print('Training status: ' + iteration.status) # 현재 상태는: 이터레이션 상태\n",
        "  print('Waiting 10 seconds...')\n",
        "  time.sleep(10) #10초에 한 번씩 프로젝트가 끝났는지 체크"
      ],
      "metadata": {
        "colab": {
          "base_uri": "https://localhost:8080/"
        },
        "id": "ZKsCcKwgYJpL",
        "outputId": "7475ab5e-8221-4756-ed7c-9399b04dc8c5"
      },
      "execution_count": 71,
      "outputs": [
        {
          "output_type": "stream",
          "name": "stdout",
          "text": [
            "Training......\n",
            "Training status: Training\n",
            "Waiting 10 seconds...\n",
            "Training status: Training\n",
            "Waiting 10 seconds...\n",
            "Training status: Training\n",
            "Waiting 10 seconds...\n",
            "Training status: Training\n",
            "Waiting 10 seconds...\n",
            "Training status: Training\n",
            "Waiting 10 seconds...\n",
            "Training status: Training\n",
            "Waiting 10 seconds...\n",
            "Training status: Training\n",
            "Waiting 10 seconds...\n",
            "Training status: Training\n",
            "Waiting 10 seconds...\n",
            "Training status: Training\n",
            "Waiting 10 seconds...\n",
            "Training status: Training\n",
            "Waiting 10 seconds...\n",
            "Training status: Training\n",
            "Waiting 10 seconds...\n",
            "Training status: Training\n",
            "Waiting 10 seconds...\n",
            "Training status: Training\n",
            "Waiting 10 seconds...\n",
            "Training status: Training\n",
            "Waiting 10 seconds...\n",
            "Training status: Training\n",
            "Waiting 10 seconds...\n",
            "Training status: Training\n",
            "Waiting 10 seconds...\n",
            "Training status: Training\n",
            "Waiting 10 seconds...\n",
            "Training status: Training\n",
            "Waiting 10 seconds...\n",
            "Training status: Training\n",
            "Waiting 10 seconds...\n",
            "Training status: Training\n",
            "Waiting 10 seconds...\n",
            "Training status: Training\n",
            "Waiting 10 seconds...\n",
            "Training status: Training\n",
            "Waiting 10 seconds...\n",
            "Training status: Training\n",
            "Waiting 10 seconds...\n",
            "Training status: Training\n",
            "Waiting 10 seconds...\n",
            "Training status: Training\n",
            "Waiting 10 seconds...\n",
            "Training status: Training\n",
            "Waiting 10 seconds...\n",
            "Training status: Training\n",
            "Waiting 10 seconds...\n",
            "Training status: Completed\n",
            "Waiting 10 seconds...\n"
          ]
        }
      ]
    },
    {
      "cell_type": "code",
      "source": [
        "#CustomVisionPrediction\n",
        "from azure.cognitiveservices.vision.customvision.prediction import CustomVisionPredictionClient"
      ],
      "metadata": {
        "id": "Nm7pgEcKh4q3"
      },
      "execution_count": 72,
      "outputs": []
    },
    {
      "cell_type": "code",
      "source": [
        "prediction_key = 'a9453790ed7e4f4a994ae27ff0e60443'\n",
        "prediction_endpoint = 'https://bchanyoocustv-prediction.cognitiveservices.azure.com/'\n",
        "prediction_credential = ApiKeyCredentials(\n",
        "    in_headers = {'Prediction-key' : prediction_key})"
      ],
      "metadata": {
        "id": "_OuXViJVjL7v"
      },
      "execution_count": 77,
      "outputs": []
    },
    {
      "cell_type": "code",
      "source": [
        "#예측 리소스 생성\n",
        "predictor = CustomVisionPredictionClient(prediction_endpoint,\n",
        "                                         prediction_credential)"
      ],
      "metadata": {
        "id": "Wcc9F2Yckhrj"
      },
      "execution_count": 78,
      "outputs": []
    },
    {
      "cell_type": "code",
      "source": [
        "target_image_url = 'https://search.pstatic.net/common/?src=http%3A%2F%2Fblogfiles.naver.net%2FMjAyMzAzMzBfMTE1%2FMDAxNjgwMTYyNDgzNTM3.6d9ow1yyMhoFy0KvBnlCt_D0dIYi85NYjgJ81Y0Nf88g.DESstsw7_qtsTrBvnefAwsI1kE7mzNzxfAia6Z2_d4Ag.JPEG.viewerqueen%2Foutput_1747696540.jpg&type=a340'\n",
        "result = predictor.classify_image_url(project.id, \n",
        "                             'Iteration1',\n",
        "                             target_image_url) #customvision에서 publish 완료"
      ],
      "metadata": {
        "id": "15qJ2EDelZAQ"
      },
      "execution_count": 85,
      "outputs": []
    },
    {
      "cell_type": "code",
      "source": [
        "for prediction in result.predictions: #짜장면 예측\n",
        "  print(prediction.tag_name +\n",
        "        ': {0:.2f}%'.format(prediction.probability)) #float의 소숫점 둘째까지 표현, 0은 위치."
      ],
      "metadata": {
        "colab": {
          "base_uri": "https://localhost:8080/"
        },
        "id": "FTopa-a8l2AF",
        "outputId": "2d269802-0823-4950-dd55-c18812fd52da"
      },
      "execution_count": 91,
      "outputs": [
        {
          "output_type": "stream",
          "name": "stdout",
          "text": [
            "Jajangmyeon: 0.99%\n",
            "Jjambbong: 0.01%\n",
            "TangsuYook: 0.00%\n"
          ]
        }
      ]
    }
  ]
}