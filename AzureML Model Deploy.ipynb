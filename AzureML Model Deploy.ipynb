{
  "cells": [
    {
      "cell_type": "code",
      "source": [
        "#workspace 만들기.\r\n",
        "from azureml.core import Workspace\r\n",
        "ws = Workspace.from_config()\r\n",
        "print('Workspace name :' + ws.name, \r\n",
        "        'Azure region :' + ws.location,\r\n",
        "        'Subscription ID : ' + ws.subscription_id,\r\n",
        "        'Resource Group :' + ws.resource_group)"
      ],
      "outputs": [
        {
          "output_type": "stream",
          "name": "stdout",
          "text": "Workspace name :labuser37ml Azure region :koreacentral Subscription ID : 7ad28d1d-a2a6-4086-8be0-4c877e108b94 Resource Group :rg37\n"
        }
      ],
      "execution_count": 1,
      "metadata": {
        "gather": {
          "logged": 1685100519289
        }
      }
    },
    {
      "cell_type": "code",
      "source": [
        "#Experiment Workspace 준비\r\n",
        "from azureml.core import Experiment\r\n",
        "experiment = Experiment(workspace = ws, name = 'diabetes-experiment')"
      ],
      "outputs": [],
      "execution_count": 2,
      "metadata": {
        "jupyter": {
          "source_hidden": false,
          "outputs_hidden": false
        },
        "nteract": {
          "transient": {
            "deleting": false
          }
        },
        "gather": {
          "logged": 1685100519652
        }
      }
    },
    {
      "cell_type": "code",
      "source": [
        "#Data 준비하기\r\n",
        "from azureml.opendatasets import Diabetes\r\n",
        "from sklearn.model_selection import train_test_split\r\n",
        "\r\n",
        "x_df = Diabetes.get_tabular_dataset().to_pandas_dataframe().dropna() #dropna는 null값을 지워준다\r\n",
        "y_df = x_df.pop('Y')\r\n",
        "X_train, X_test, y_train, y_test = train_test_split(x_df, y_df, test_size=0.2, random_state=66) #(feature, label)\r\n",
        "print(X_train)"
      ],
      "outputs": [
        {
          "output_type": "stream",
          "name": "stdout",
          "text": "     AGE  SEX   BMI     BP   S1     S2    S3    S4      S5   S6\n440   36    1  30.0   95.0  201  125.2  42.0  4.79  5.1299   85\n389   47    2  26.5   70.0  181  104.8  63.0  3.00  4.1897   70\n5     23    1  22.6   89.0  139   64.8  61.0  2.00  4.1897   68\n289   28    2  31.5   83.0  228  149.4  38.0  6.00  5.3132   83\n101   53    2  22.2  113.0  197  115.2  67.0  3.00  4.3041  100\n..   ...  ...   ...    ...  ...    ...   ...   ...     ...  ...\n122   62    2  33.9  101.0  221  156.4  35.0  6.00  4.9972  103\n51    65    2  27.9  103.0  159   96.8  42.0  4.00  4.6151   86\n119   53    1  22.0   94.0  175   88.0  59.0  3.00  4.9416   98\n316   53    2  27.7   95.0  190  101.8  41.0  5.00  5.4638  101\n20    35    1  21.1   82.0  156   87.8  50.0  3.00  4.5109   95\n\n[353 rows x 10 columns]\n"
        }
      ],
      "execution_count": 3,
      "metadata": {
        "jupyter": {
          "source_hidden": false,
          "outputs_hidden": false
        },
        "nteract": {
          "transient": {
            "deleting": false
          }
        },
        "gather": {
          "logged": 1685100525473
        }
      }
    },
    {
      "cell_type": "code",
      "source": [
        "#모델 훈련, 로그, 모델 파일 관리\r\n",
        "from sklearn.linear_model import Ridge\r\n",
        "from sklearn.metrics import mean_squared_error\r\n",
        "from sklearn.externals import joblib\r\n",
        "import math\r\n",
        "\r\n",
        "alphas = [0.1, 0.2, 0.3, 0.4, 0.5, 0.6, 0.7, 0.8, 0.9, 1]\r\n",
        "\r\n",
        "for alpha in alphas:\r\n",
        "\r\n",
        "    #실험을 기록하는 함수\r\n",
        "    run = experiment.start_logging()\r\n",
        "    run.log('alpha_value', alpha)\r\n",
        "\r\n",
        "    model = Ridge(alpha = alpha)\r\n",
        "    model.fit(X_train, y_train)\r\n",
        "    y_pred = model.predict(X_test)\r\n",
        "    rmse = math.sqrt(mean_squared_error(y_test, y_pred))\r\n",
        "\r\n",
        "    run.log('rmse', rmse)\r\n",
        "\r\n",
        "    print('model_alpha = {0}, mse = {1}'.format(alpha, rmse))\r\n",
        "\r\n",
        "    # 모델을 파일로 저장하는 part\r\n",
        "    model_name = 'model_alpha_' + str(alpha) + '.pkl' #scikit-learn의 확장자는 pkl\r\n",
        "    filename = 'outputs/' + model_name\r\n",
        "\r\n",
        "    joblib.dump(value=model, filename = filename)\r\n",
        "    \r\n",
        "    #Azure ML Service에 모델 파일을 업로드하기.\r\n",
        "    run.upload_file(name = model_name, path_or_stream = filename)\r\n",
        "\r\n",
        "    run.complete()\r\n",
        "\r\n",
        "    print(f'{alpha} experiment completed')"
      ],
      "outputs": [
        {
          "output_type": "stream",
          "name": "stderr",
          "text": "/anaconda/envs/azureml_py38/lib/python3.8/site-packages/sklearn/externals/joblib/__init__.py:15: FutureWarning: sklearn.externals.joblib is deprecated in 0.21 and will be removed in 0.23. Please import this functionality directly from joblib, which can be installed with: pip install joblib. If this warning is raised when loading pickled models, you may need to re-serialize those models with scikit-learn 0.21+.\n  warnings.warn(msg, category=FutureWarning)\n"
        },
        {
          "output_type": "stream",
          "name": "stdout",
          "text": "model_alpha = 0.1, mse = 56.60520331339142\n0.1 experiment completed\nmodel_alpha = 0.2, mse = 56.61060264545032\n0.2 experiment completed\nmodel_alpha = 0.3, mse = 56.616243245483616\n0.3 experiment completed\nmodel_alpha = 0.4, mse = 56.622107088710145\n0.4 experiment completed\nmodel_alpha = 0.5, mse = 56.62817734275138\n0.5 experiment completed\nmodel_alpha = 0.6, mse = 56.63443828302745\n0.6 experiment completed\nmodel_alpha = 0.7, mse = 56.64087521475942\n0.7 experiment completed\nmodel_alpha = 0.8, mse = 56.64747440101076\n0.8 experiment completed\nmodel_alpha = 0.9, mse = 56.654222996253125\n0.9 experiment completed\nmodel_alpha = 1, mse = 56.66110898499056\n1 experiment completed\n"
        }
      ],
      "execution_count": 4,
      "metadata": {
        "jupyter": {
          "source_hidden": false,
          "outputs_hidden": false
        },
        "nteract": {
          "transient": {
            "deleting": false
          }
        },
        "gather": {
          "logged": 1685100562252
        }
      }
    },
    {
      "cell_type": "code",
      "source": [
        "experiment"
      ],
      "outputs": [
        {
          "output_type": "execute_result",
          "execution_count": 5,
          "data": {
            "text/plain": "Experiment(Name: diabetes-experiment,\nWorkspace: labuser37ml)",
            "text/html": "<table style=\"width:100%\"><tr><th>Name</th><th>Workspace</th><th>Report Page</th><th>Docs Page</th></tr><tr><td>diabetes-experiment</td><td>labuser37ml</td><td><a href=\"https://ml.azure.com/experiments/id/fe05fbb4-a95d-4812-8dbe-35f6d2cc1651?wsid=/subscriptions/7ad28d1d-a2a6-4086-8be0-4c877e108b94/resourcegroups/rg37/workspaces/labuser37ml&amp;tid=5fb256f0-fbf2-40d2-81d5-bac1b32c419d\" target=\"_blank\" rel=\"noopener\">Link to Azure Machine Learning studio</a></td><td><a href=\"https://docs.microsoft.com/en-us/python/api/azureml-core/azureml.core.experiment.Experiment?view=azure-ml-py\" target=\"_blank\" rel=\"noopener\">Link to Documentation</a></td></tr></table>"
          },
          "metadata": {}
        }
      ],
      "execution_count": 5,
      "metadata": {
        "jupyter": {
          "source_hidden": false,
          "outputs_hidden": false
        },
        "nteract": {
          "transient": {
            "deleting": false
          }
        },
        "gather": {
          "logged": 1685100562525
        }
      }
    },
    {
      "cell_type": "code",
      "source": [
        "#Best Model을 탐색 후 다운로드\r\n",
        "minimum_rmse = None\r\n",
        "minimum_rmse_runid = None\r\n",
        "\r\n",
        "for exp in experiment.get_runs():\r\n",
        "    run_metrics = exp.get_metrics();\r\n",
        "    run_details = exp.get_details();\r\n",
        "\r\n",
        "    run_rmse = run_metrics['rmse']\r\n",
        "    run_id = run_details['runId']\r\n",
        "\r\n",
        "    #가장 낮은 RMSE값을 가진 실행ID를 구하는 부분.\r\n",
        "    if minimum_rmse is None: #처음 실행시켰을 때 None\r\n",
        "        minimum_rmse = run_rmse\r\n",
        "        minimum_rmse_runid =run_id\r\n",
        "    else:\r\n",
        "        if run_rmse < minimum_rmse:\r\n",
        "            minimum_rmse = run_rmse\r\n",
        "            minimum_rmse_runid = run_id\r\n",
        "\r\n",
        "print('Best run_id = ' + minimum_rmse_runid)\r\n",
        "print('Best run_id rmse = ' + str(minimum_rmse))"
      ],
      "outputs": [
        {
          "output_type": "stream",
          "name": "stdout",
          "text": "Best run_id = 6ec7bcfb-bb25-45f8-8840-0f96c29ad810\nBest run_id rmse = 56.60520331339142\n"
        }
      ],
      "execution_count": 6,
      "metadata": {
        "jupyter": {
          "source_hidden": false,
          "outputs_hidden": false
        },
        "nteract": {
          "transient": {
            "deleting": false
          }
        },
        "gather": {
          "logged": 1685100579946
        }
      }
    },
    {
      "cell_type": "code",
      "source": [
        "from azureml.core import Run\r\n",
        "best_run = Run(experiment = experiment, run_id = minimum_rmse_runid)\r\n",
        "print(best_run.get_file_names())\r\n",
        "\r\n",
        "best_run.download_file(name = str(best_run.get_file_names()[0]))"
      ],
      "outputs": [
        {
          "output_type": "stream",
          "name": "stdout",
          "text": "['model_alpha_0.1.pkl', 'outputs/.amlignore', 'outputs/.amlignore.amltmp', 'outputs/model_alpha_0.1.pkl', 'outputs/model_alpha_0.2.pkl', 'outputs/model_alpha_0.3.pkl', 'outputs/model_alpha_0.4.pkl', 'outputs/model_alpha_0.5.pkl', 'outputs/model_alpha_0.6.pkl', 'outputs/model_alpha_0.7.pkl', 'outputs/model_alpha_0.8.pkl', 'outputs/model_alpha_0.9.pkl', 'outputs/model_alpha_1.pkl']\n"
        }
      ],
      "execution_count": 7,
      "metadata": {
        "jupyter": {
          "source_hidden": false,
          "outputs_hidden": false
        },
        "nteract": {
          "transient": {
            "deleting": false
          }
        },
        "gather": {
          "logged": 1685100580164
        }
      }
    },
    {
      "cell_type": "code",
      "source": [
        "import numpy as np\r\n",
        "from azureml.core import Dataset\r\n",
        "\r\n",
        "np.savetxt('features.csv', X_train, delimiter=',')\r\n",
        "np.savetxt('labels.csv', y_train, delimiter=',')\r\n",
        "\r\n",
        "datastore = ws.get_default_datastore()\r\n",
        "\r\n",
        "datastore.upload_files(files = ['./features.csv','./labels.csv'],\r\n",
        "                                target_path='diabetes-experiment',\r\n",
        "                                overwrite = True)"
      ],
      "outputs": [
        {
          "output_type": "stream",
          "name": "stderr",
          "text": "\"datastore.upload_files\" is deprecated after version 1.0.69. Please use \"FileDatasetFactory.upload_directory\" instead. See Dataset API change notice at https://aka.ms/dataset-deprecation.\n"
        },
        {
          "output_type": "stream",
          "name": "stdout",
          "text": "Uploading an estimated of 2 files\nUploading ./features.csv\nUploaded ./features.csv, 1 files out of an estimated total of 2\nUploading ./labels.csv\nUploaded ./labels.csv, 2 files out of an estimated total of 2\nUploaded 2 files\n"
        },
        {
          "output_type": "execute_result",
          "execution_count": 8,
          "data": {
            "text/plain": "$AZUREML_DATAREFERENCE_62a6d881e7c04359ad062367a0c758e4"
          },
          "metadata": {}
        }
      ],
      "execution_count": 8,
      "metadata": {
        "jupyter": {
          "source_hidden": false,
          "outputs_hidden": false
        },
        "nteract": {
          "transient": {
            "deleting": false
          }
        },
        "gather": {
          "logged": 1685100581076
        }
      }
    },
    {
      "cell_type": "code",
      "source": [
        "#feature, label file 불러오기\r\n",
        "feature_dataset = Dataset.Tabular.from_delimited_files(path = [(datastore, 'diabetes-experiment/features.csv')])\r\n",
        "label_dataset = Dataset.Tabular.from_delimited_files(path = [(datastore, 'diabetes-experiment/labels.csv')])"
      ],
      "outputs": [],
      "execution_count": 9,
      "metadata": {
        "jupyter": {
          "source_hidden": false,
          "outputs_hidden": false
        },
        "nteract": {
          "transient": {
            "deleting": false
          }
        },
        "gather": {
          "logged": 1685100582294
        }
      }
    },
    {
      "cell_type": "code",
      "source": [
        "import sklearn\r\n",
        "from azureml.core import Model\r\n",
        "from azureml.core.resource_configuration import ResourceConfiguration"
      ],
      "outputs": [],
      "execution_count": 10,
      "metadata": {
        "jupyter": {
          "source_hidden": false,
          "outputs_hidden": false
        },
        "nteract": {
          "transient": {
            "deleting": false
          }
        },
        "gather": {
          "logged": 1685100582474
        }
      }
    },
    {
      "cell_type": "code",
      "source": [
        "#Model의 등록\r\n",
        "model = Model.register(workspace = ws,\r\n",
        "                model_name = 'diabetes-experiment-model',\r\n",
        "                model_path = f'./{str(best_run.get_file_names()[0])}',\r\n",
        "                model_framework = Model.Framework.SCIKITLEARN,\r\n",
        "                model_framework_version = sklearn.__version__,\r\n",
        "                sample_input_dataset = feature_dataset,\r\n",
        "                sample_output_dataset = label_dataset,\r\n",
        "                resource_configuration = ResourceConfiguration(cpu = 1, memory_in_gb = 0.5),\r\n",
        "                description = 'Ridge regression model to predict diabetes progression')"
      ],
      "outputs": [
        {
          "output_type": "stream",
          "name": "stdout",
          "text": "Registering model diabetes-experiment-model\n"
        }
      ],
      "execution_count": 17,
      "metadata": {
        "jupyter": {
          "source_hidden": false,
          "outputs_hidden": false
        },
        "nteract": {
          "transient": {
            "deleting": false
          }
        },
        "gather": {
          "logged": 1685100985837
        }
      }
    },
    {
      "cell_type": "code",
      "source": [
        "#모델 배포\r\n",
        "service_name = 'diabetes-service'\r\n",
        "service = Model.deploy(ws, service_name, [model], overwrite = True)\r\n",
        "#model 배포는 여러개가 가능하기 때문에, list 타입으로 입력한다.\r\n",
        "service.wait_for_deployment(show_output=True)"
      ],
      "outputs": [
        {
          "output_type": "stream",
          "name": "stderr",
          "text": "/tmp/ipykernel_545446/1037709531.py:3: FutureWarning: azureml.core.model:\nTo leverage new model deployment capabilities, AzureML recommends using CLI/SDK v2 to deploy models as online endpoint, \nplease refer to respective documentations \nhttps://docs.microsoft.com/azure/machine-learning/how-to-deploy-managed-online-endpoints /\nhttps://docs.microsoft.com/azure/machine-learning/how-to-attach-kubernetes-anywhere \nFor more information on migration, see https://aka.ms/acimoemigration \nTo disable CLI/SDK v1 deprecation warning set AZUREML_LOG_DEPRECATION_WARNING_ENABLED to 'False'\n  service = Model.deploy(ws, service_name, [model], overwrite = True)\n"
        },
        {
          "output_type": "stream",
          "name": "stdout",
          "text": "Tips: You can try get_logs(): https://aka.ms/debugimage#dockerlog or local deployment: https://aka.ms/debugimage#debug-locally to debug if deployment takes longer than 10 minutes.\nRunning\n2023-05-26 11:36:30+00:00 Creating Container Registry if not exists..\n2023-05-26 11:46:31+00:00 Registering the environment..\n2023-05-26 11:46:32+00:00 Uploading autogenerated assets for no-code-deployment.\n2023-05-26 11:46:35+00:00 Building image..\n2023-05-26 11:56:49+00:00 Generating deployment configuration.\n2023-05-26 11:56:50+00:00 Submitting deployment to compute..\n2023-05-26 11:56:56+00:00 Checking the status of deployment diabetes-service..\n2023-05-26 11:58:18+00:00 Checking the status of inference endpoint diabetes-service.\nSucceeded\nACI service creation operation finished, operation \"Succeeded\"\n"
        }
      ],
      "execution_count": 18,
      "metadata": {
        "jupyter": {
          "source_hidden": false,
          "outputs_hidden": false
        },
        "nteract": {
          "transient": {
            "deleting": false
          }
        },
        "gather": {
          "logged": 1685102303089
        }
      }
    },
    {
      "cell_type": "code",
      "source": [
        "#Test\r\n",
        "import json\r\n",
        "\r\n",
        "\r\n",
        "input_payload = json.dumps({\r\n",
        "    'data' : X_train[0:2].values.tolist(),\r\n",
        "    'method' : 'predict'\r\n",
        "})\r\n",
        "\r\n",
        "output = service.run(input_payload)\r\n",
        "\r\n",
        "print(output)"
      ],
      "outputs": [
        {
          "output_type": "stream",
          "name": "stdout",
          "text": "{'predict': [204.9450693706217, 74.4641225933554]}\n"
        }
      ],
      "execution_count": 21,
      "metadata": {
        "jupyter": {
          "source_hidden": false,
          "outputs_hidden": false
        },
        "nteract": {
          "transient": {
            "deleting": false
          }
        },
        "gather": {
          "logged": 1685102393871
        }
      }
    }
  ],
  "metadata": {
    "kernelspec": {
      "name": "python38-azureml",
      "language": "python",
      "display_name": "Python 3.8 - AzureML"
    },
    "language_info": {
      "name": "python",
      "version": "3.8.5",
      "mimetype": "text/x-python",
      "codemirror_mode": {
        "name": "ipython",
        "version": 3
      },
      "pygments_lexer": "ipython3",
      "nbconvert_exporter": "python",
      "file_extension": ".py"
    },
    "microsoft": {
      "ms_spell_check": {
        "ms_spell_check_language": "en"
      },
      "host": {
        "AzureML": {
          "notebookHasBeenCompleted": true
        }
      }
    },
    "kernel_info": {
      "name": "python38-azureml"
    },
    "nteract": {
      "version": "nteract-front-end@1.0.0"
    }
  },
  "nbformat": 4,
  "nbformat_minor": 2
}