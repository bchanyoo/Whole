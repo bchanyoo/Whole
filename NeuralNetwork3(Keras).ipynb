{
  "nbformat": 4,
  "nbformat_minor": 0,
  "metadata": {
    "colab": {
      "provenance": []
    },
    "kernelspec": {
      "name": "python3",
      "display_name": "Python 3"
    },
    "language_info": {
      "name": "python"
    }
  },
  "cells": [
    {
      "cell_type": "code",
      "execution_count": 42,
      "metadata": {
        "id": "hTDqEKOO73Gn"
      },
      "outputs": [],
      "source": [
        "from keras.datasets import boston_housing\n",
        "(train_data, train_labels), (test_data, test_labels) = boston_housing.load_data()"
      ]
    },
    {
      "cell_type": "code",
      "source": [
        "print(train_data.shape)\n",
        "print(test_data.shape)"
      ],
      "metadata": {
        "colab": {
          "base_uri": "https://localhost:8080/"
        },
        "id": "UaqVBl4y8EWU",
        "outputId": "334348c5-ee55-4ad7-deaa-5b71b4e5f3f4"
      },
      "execution_count": 43,
      "outputs": [
        {
          "output_type": "stream",
          "name": "stdout",
          "text": [
            "(404, 13)\n",
            "(102, 13)\n"
          ]
        }
      ]
    },
    {
      "cell_type": "code",
      "source": [
        "print(train_labels[0])"
      ],
      "metadata": {
        "colab": {
          "base_uri": "https://localhost:8080/"
        },
        "id": "sGSy5xvo8I_C",
        "outputId": "ac5cb97a-fa42-4e41-d1f1-7cd37d0b850e"
      },
      "execution_count": 44,
      "outputs": [
        {
          "output_type": "stream",
          "name": "stdout",
          "text": [
            "15.2\n"
          ]
        }
      ]
    },
    {
      "cell_type": "code",
      "source": [
        "print(train_data[0])"
      ],
      "metadata": {
        "colab": {
          "base_uri": "https://localhost:8080/"
        },
        "id": "lK2L6pVG8LQR",
        "outputId": "30266175-0963-4114-c774-deeb1d42a22d"
      },
      "execution_count": 45,
      "outputs": [
        {
          "output_type": "stream",
          "name": "stdout",
          "text": [
            "[  1.23247   0.        8.14      0.        0.538     6.142    91.7\n",
            "   3.9769    4.      307.       21.      396.9      18.72   ]\n"
          ]
        }
      ]
    },
    {
      "cell_type": "code",
      "source": [
        "# Scaling\n",
        "# 0번 축은 가로, 1번 축은 세로\n",
        "# 각 column별의 평균을 구하기.\n",
        "\n",
        "mean = train_data.mean(axis = 0)\n",
        "train_data -= mean    #train_data = train_data - mean과 같다.\n",
        "std = train_data.std(axis = 0)\n",
        "train_data /= std\n",
        "\n",
        "train_data[0]"
      ],
      "metadata": {
        "colab": {
          "base_uri": "https://localhost:8080/"
        },
        "id": "DkgGxvJ377zx",
        "outputId": "c908cd94-9be6-4e17-c836-df9050329757"
      },
      "execution_count": 46,
      "outputs": [
        {
          "output_type": "execute_result",
          "data": {
            "text/plain": [
              "array([-0.27224633, -0.48361547, -0.43576161, -0.25683275, -0.1652266 ,\n",
              "       -0.1764426 ,  0.81306188,  0.1166983 , -0.62624905, -0.59517003,\n",
              "        1.14850044,  0.44807713,  0.8252202 ])"
            ]
          },
          "metadata": {},
          "execution_count": 46
        }
      ]
    },
    {
      "cell_type": "code",
      "source": [
        "# 모델 구성하기\n",
        "from keras import models\n",
        "from keras import layers\n",
        "\n",
        "def build_model():\n",
        "  model = models.Sequential()\n",
        "  model.add(layers.Dense(64, activation = 'relu', input_shape = (train_data.shape[1],)))\n",
        "  model.add(layers.Dense(64, activation = 'relu'))\n",
        "  model.add(layers.Dense(1))      #집값 하나만 나오기 때문에 1개, 회귀값이기때문에 활성함수를 지정하지 않아도 된다.\n",
        "  model.compile(optimizer = 'rmsprop',\n",
        "                loss = 'mse',\n",
        "                metrics = ['mse'])\n",
        "  return model"
      ],
      "metadata": {
        "id": "fK4c9JZi9fAK"
      },
      "execution_count": 53,
      "outputs": []
    },
    {
      "cell_type": "code",
      "source": [
        "# K-folder 검증을 사용한 훈련 검증\n",
        "\n",
        "import numpy as np\n",
        "\n",
        "k = 4                                         # folder 갯수\n",
        "num_val_samples = len(train_data) // k\n",
        "all_scores = []\n",
        "\n",
        "for i in range(k):\n",
        "  print('처리중인 폴드는 #', i)\n",
        "\n",
        "  #검증 데이터 준비\n",
        "  val_data = train_data[i * num_val_samples : (i + 1) * num_val_samples] #시작점과 끝점\n",
        "  val_labels = train_labels[i * num_val_samples : (i + 1) * num_val_samples]\n",
        "\n",
        "  #학습 데이터 준비\n",
        "  data1 = train_data[ : i * num_val_samples]\n",
        "  data2 = train_data[(i+1) * num_val_samples : ]\n",
        "  data1_labels = train_labels[ : i * num_val_samples]\n",
        "  data2_labels = train_labels[(i+1) * num_val_samples : ]\n",
        "\n",
        "  partial_train_data = np.concatenate([data1, data2], axis = 0) #같은 구조의 데이터를 합쳐주는 함수.\n",
        "  partial_train_labels = np.concatenate([data1_labels, data2_labels], axis = 0)\n",
        "\n",
        "  # 모델 학습하기\n",
        "  model = build_model()\n",
        "  model.summary() #parameter를 보면 모델의 복잡성을 알 수 있다\n",
        "\n",
        "  model.fit(partial_train_data, partial_train_labels, epochs = 500, batch_size = 128, verbose = 0) #0이면 훈련사항을 보여주지 x, 기본값은 1\n",
        "\n",
        "  #모델 검증하기\n",
        "  val_mse, val_mae = model.evaluate(val_data, val_labels)\n",
        "  print(val_mse, val_mae)\n",
        "  all_scores.append(val_mae)"
      ],
      "metadata": {
        "colab": {
          "base_uri": "https://localhost:8080/"
        },
        "id": "G8aZbVi883nT",
        "outputId": "1983d802-6fd6-47a8-a3d0-937ba9532eea"
      },
      "execution_count": 59,
      "outputs": [
        {
          "output_type": "stream",
          "name": "stdout",
          "text": [
            "처리중인 폴드는 # 0\n",
            "Model: \"sequential_13\"\n",
            "_________________________________________________________________\n",
            " Layer (type)                Output Shape              Param #   \n",
            "=================================================================\n",
            " dense_29 (Dense)            (None, 64)                896       \n",
            "                                                                 \n",
            " dense_30 (Dense)            (None, 64)                4160      \n",
            "                                                                 \n",
            " dense_31 (Dense)            (None, 1)                 65        \n",
            "                                                                 \n",
            "=================================================================\n",
            "Total params: 5,121\n",
            "Trainable params: 5,121\n",
            "Non-trainable params: 0\n",
            "_________________________________________________________________\n",
            "4/4 [==============================] - 0s 3ms/step - loss: 6.3673 - mse: 6.3673\n",
            "6.367284774780273 6.367284774780273\n",
            "처리중인 폴드는 # 1\n",
            "Model: \"sequential_14\"\n",
            "_________________________________________________________________\n",
            " Layer (type)                Output Shape              Param #   \n",
            "=================================================================\n",
            " dense_32 (Dense)            (None, 64)                896       \n",
            "                                                                 \n",
            " dense_33 (Dense)            (None, 64)                4160      \n",
            "                                                                 \n",
            " dense_34 (Dense)            (None, 1)                 65        \n",
            "                                                                 \n",
            "=================================================================\n",
            "Total params: 5,121\n",
            "Trainable params: 5,121\n",
            "Non-trainable params: 0\n",
            "_________________________________________________________________\n",
            "4/4 [==============================] - 0s 4ms/step - loss: 9.9655 - mse: 9.9655\n",
            "9.965483665466309 9.965483665466309\n",
            "처리중인 폴드는 # 2\n",
            "Model: \"sequential_15\"\n",
            "_________________________________________________________________\n",
            " Layer (type)                Output Shape              Param #   \n",
            "=================================================================\n",
            " dense_35 (Dense)            (None, 64)                896       \n",
            "                                                                 \n",
            " dense_36 (Dense)            (None, 64)                4160      \n",
            "                                                                 \n",
            " dense_37 (Dense)            (None, 1)                 65        \n",
            "                                                                 \n",
            "=================================================================\n",
            "Total params: 5,121\n",
            "Trainable params: 5,121\n",
            "Non-trainable params: 0\n",
            "_________________________________________________________________\n",
            "4/4 [==============================] - 0s 4ms/step - loss: 12.4173 - mse: 12.4173\n",
            "12.41732120513916 12.41732120513916\n",
            "처리중인 폴드는 # 3\n",
            "Model: \"sequential_16\"\n",
            "_________________________________________________________________\n",
            " Layer (type)                Output Shape              Param #   \n",
            "=================================================================\n",
            " dense_38 (Dense)            (None, 64)                896       \n",
            "                                                                 \n",
            " dense_39 (Dense)            (None, 64)                4160      \n",
            "                                                                 \n",
            " dense_40 (Dense)            (None, 1)                 65        \n",
            "                                                                 \n",
            "=================================================================\n",
            "Total params: 5,121\n",
            "Trainable params: 5,121\n",
            "Non-trainable params: 0\n",
            "_________________________________________________________________\n",
            "4/4 [==============================] - 0s 2ms/step - loss: 10.6985 - mse: 10.6985\n",
            "10.698495864868164 10.698495864868164\n"
          ]
        }
      ]
    },
    {
      "cell_type": "code",
      "source": [
        "np.mean(all_scores)"
      ],
      "metadata": {
        "colab": {
          "base_uri": "https://localhost:8080/"
        },
        "id": "wnIoS7P3Gssj",
        "outputId": "96296b31-b5e7-4974-fe4f-a3132c62bfc5"
      },
      "execution_count": 58,
      "outputs": [
        {
          "output_type": "execute_result",
          "data": {
            "text/plain": [
              "10.687014818191528"
            ]
          },
          "metadata": {},
          "execution_count": 58
        }
      ]
    }
  ]
}