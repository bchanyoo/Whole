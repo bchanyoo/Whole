{
  "nbformat": 4,
  "nbformat_minor": 0,
  "metadata": {
    "colab": {
      "provenance": []
    },
    "kernelspec": {
      "name": "python3",
      "display_name": "Python 3"
    },
    "language_info": {
      "name": "python"
    }
  },
  "cells": [
    {
      "cell_type": "code",
      "execution_count": 1,
      "metadata": {
        "id": "mUUp0NRAkNw0",
        "colab": {
          "base_uri": "https://localhost:8080/"
        },
        "outputId": "a00705c8-57bb-4763-a271-39c5164a63a9"
      },
      "outputs": [
        {
          "output_type": "stream",
          "name": "stdout",
          "text": [
            "Downloading data from https://storage.googleapis.com/tensorflow/tf-keras-datasets/reuters.npz\n",
            "2110848/2110848 [==============================] - 0s 0us/step\n"
          ]
        }
      ],
      "source": [
        "from keras.datasets import reuters\n",
        "(train_data, train_labels), (test_data, test_labels) = reuters.load_data(num_words = 10000)"
      ]
    },
    {
      "cell_type": "code",
      "source": [
        "print(train_data.shape)\n",
        "print(test_data.shape)"
      ],
      "metadata": {
        "colab": {
          "base_uri": "https://localhost:8080/"
        },
        "id": "xPhM2uD9sX2f",
        "outputId": "14dd41e8-8969-4fdb-a80a-efa6b174927e"
      },
      "execution_count": 2,
      "outputs": [
        {
          "output_type": "stream",
          "name": "stdout",
          "text": [
            "(8982,)\n",
            "(2246,)\n"
          ]
        }
      ]
    },
    {
      "cell_type": "code",
      "source": [
        "import numpy as np\n",
        "def vectorize_sequences(sequences, dimension = 10000):\n",
        "  results = np.zeros((len(sequences), dimension))\n",
        "\n",
        "  for i, sequence in enumerate(sequences):\n",
        "    results[i, sequence] = 1\n",
        "  return results"
      ],
      "metadata": {
        "id": "dtLk7Kw3tL4a"
      },
      "execution_count": 3,
      "outputs": []
    },
    {
      "cell_type": "code",
      "source": [
        "# train data, test data를 vectorize\n",
        "x_train = vectorize_sequences(train_data)\n",
        "x_test = vectorize_sequences(test_data)"
      ],
      "metadata": {
        "id": "I5KbRc0NunZ_"
      },
      "execution_count": 4,
      "outputs": []
    },
    {
      "cell_type": "code",
      "source": [
        "# label data를 categorical data로 변환\n",
        "\n",
        "from keras.utils.np_utils import to_categorical\n",
        "\n",
        "one_hot_train_labels = to_categorical(train_labels)\n",
        "one_hot_test_labels = to_categorical(test_labels)"
      ],
      "metadata": {
        "id": "PpKlWWGAvVk3"
      },
      "execution_count": 5,
      "outputs": []
    },
    {
      "cell_type": "code",
      "source": [
        "# model 구성하기\n",
        "from keras import models\n",
        "from keras import layers\n",
        "model = models.Sequential()\n",
        "model.add(layers.Dense(64, activation = 'relu', input_shape = (10000,))) #input layer\n",
        "model.add(layers.Dense(64, activation = 'relu')) #hidden layer\n",
        "model.add(layers.Dense(46, activation = 'softmax')) #output layer, 결과가 여러개."
      ],
      "metadata": {
        "id": "yzXx5KII5YD0"
      },
      "execution_count": 13,
      "outputs": []
    },
    {
      "cell_type": "code",
      "source": [
        "model.compile(optimizer = 'rmsprop',\n",
        "              loss = 'categorical_crossentropy',\n",
        "              metrics = ['accuracy'])"
      ],
      "metadata": {
        "id": "chwL1Ehi7tjD"
      },
      "execution_count": 14,
      "outputs": []
    },
    {
      "cell_type": "code",
      "source": [
        "# Validation Data 자르기\n",
        "x_val = x_train[:1000]\n",
        "partial_x_train = x_train[1000:]\n",
        "y_val = one_hot_train_labels[:1000]\n",
        "partial_y_train = one_hot_train_labels[1000:]"
      ],
      "metadata": {
        "id": "XASziOuh710j"
      },
      "execution_count": 15,
      "outputs": []
    },
    {
      "cell_type": "code",
      "source": [
        "history = model.fit(partial_x_train,\n",
        "                    partial_y_train,\n",
        "                    epochs = 20,\n",
        "                    batch_size = 512,\n",
        "                    validation_data = (x_val, y_val))"
      ],
      "metadata": {
        "id": "lhu-MjsO_eGc",
        "colab": {
          "base_uri": "https://localhost:8080/"
        },
        "outputId": "bd9f30d1-756d-4c92-b757-9cea0ae5f3a4"
      },
      "execution_count": 16,
      "outputs": [
        {
          "output_type": "stream",
          "name": "stdout",
          "text": [
            "Epoch 1/20\n",
            "16/16 [==============================] - 1s 40ms/step - loss: 2.7811 - accuracy: 0.5134 - val_loss: 1.8585 - val_accuracy: 0.6230\n",
            "Epoch 2/20\n",
            "16/16 [==============================] - 0s 31ms/step - loss: 1.5407 - accuracy: 0.6863 - val_loss: 1.3591 - val_accuracy: 0.7110\n",
            "Epoch 3/20\n",
            "16/16 [==============================] - 0s 30ms/step - loss: 1.1542 - accuracy: 0.7553 - val_loss: 1.1548 - val_accuracy: 0.7490\n",
            "Epoch 4/20\n",
            "16/16 [==============================] - 0s 30ms/step - loss: 0.9400 - accuracy: 0.7970 - val_loss: 1.0590 - val_accuracy: 0.7790\n",
            "Epoch 5/20\n",
            "16/16 [==============================] - 0s 29ms/step - loss: 0.7797 - accuracy: 0.8305 - val_loss: 0.9776 - val_accuracy: 0.7930\n",
            "Epoch 6/20\n",
            "16/16 [==============================] - 0s 31ms/step - loss: 0.6480 - accuracy: 0.8626 - val_loss: 1.0132 - val_accuracy: 0.7710\n",
            "Epoch 7/20\n",
            "16/16 [==============================] - 0s 29ms/step - loss: 0.5476 - accuracy: 0.8859 - val_loss: 0.9083 - val_accuracy: 0.8010\n",
            "Epoch 8/20\n",
            "16/16 [==============================] - 0s 31ms/step - loss: 0.4595 - accuracy: 0.9052 - val_loss: 0.8725 - val_accuracy: 0.8140\n",
            "Epoch 9/20\n",
            "16/16 [==============================] - 0s 31ms/step - loss: 0.3866 - accuracy: 0.9191 - val_loss: 0.8681 - val_accuracy: 0.8230\n",
            "Epoch 10/20\n",
            "16/16 [==============================] - 1s 52ms/step - loss: 0.3288 - accuracy: 0.9295 - val_loss: 0.8605 - val_accuracy: 0.8040\n",
            "Epoch 11/20\n",
            "16/16 [==============================] - 0s 31ms/step - loss: 0.2922 - accuracy: 0.9371 - val_loss: 0.8481 - val_accuracy: 0.8300\n",
            "Epoch 12/20\n",
            "16/16 [==============================] - 1s 66ms/step - loss: 0.2533 - accuracy: 0.9411 - val_loss: 0.9318 - val_accuracy: 0.7950\n",
            "Epoch 13/20\n",
            "16/16 [==============================] - 2s 103ms/step - loss: 0.2260 - accuracy: 0.9475 - val_loss: 0.8888 - val_accuracy: 0.8140\n",
            "Epoch 14/20\n",
            "16/16 [==============================] - 1s 75ms/step - loss: 0.2027 - accuracy: 0.9490 - val_loss: 0.9075 - val_accuracy: 0.8080\n",
            "Epoch 15/20\n",
            "16/16 [==============================] - 1s 46ms/step - loss: 0.1906 - accuracy: 0.9531 - val_loss: 0.8863 - val_accuracy: 0.8190\n",
            "Epoch 16/20\n",
            "16/16 [==============================] - 1s 56ms/step - loss: 0.1668 - accuracy: 0.9531 - val_loss: 0.9279 - val_accuracy: 0.8020\n",
            "Epoch 17/20\n",
            "16/16 [==============================] - 1s 59ms/step - loss: 0.1608 - accuracy: 0.9538 - val_loss: 0.9761 - val_accuracy: 0.8050\n",
            "Epoch 18/20\n",
            "16/16 [==============================] - 0s 29ms/step - loss: 0.1509 - accuracy: 0.9553 - val_loss: 0.9124 - val_accuracy: 0.8180\n",
            "Epoch 19/20\n",
            "16/16 [==============================] - 0s 31ms/step - loss: 0.1431 - accuracy: 0.9569 - val_loss: 0.9435 - val_accuracy: 0.8100\n",
            "Epoch 20/20\n",
            "16/16 [==============================] - 0s 30ms/step - loss: 0.1343 - accuracy: 0.9558 - val_loss: 0.9420 - val_accuracy: 0.8120\n"
          ]
        }
      ]
    },
    {
      "cell_type": "code",
      "source": [
        "import matplotlib.pyplot as plt"
      ],
      "metadata": {
        "id": "aJkeWc5awd9V"
      },
      "execution_count": 17,
      "outputs": []
    },
    {
      "cell_type": "code",
      "source": [
        "loss = history.history['loss']\n",
        "val_loss = history.history['val_loss']\n",
        "acc = history.history['accuracy']\n",
        "val_acc = history.history['val_accuracy']"
      ],
      "metadata": {
        "id": "iJ7BuZqhwgbi"
      },
      "execution_count": 19,
      "outputs": []
    },
    {
      "cell_type": "code",
      "source": [
        "epochs = range(1, len(loss) + 1)\n",
        "\n",
        "plt.plot(epochs, loss, 'bo', label = 'Training loss')\n",
        "plt.plot(epochs, val_loss, 'r-', label = 'Validation Loss')\n",
        "plt.title('Training and Validation loss')\n",
        "plt.xlabel('Epochs')\n",
        "plt.ylabel('Loss')\n",
        "plt.legend"
      ],
      "metadata": {
        "colab": {
          "base_uri": "https://localhost:8080/",
          "height": 490
        },
        "id": "BCfQ4BAnwv22",
        "outputId": "cca21b71-83c4-4379-9a8f-31cf2e8b1624"
      },
      "execution_count": 21,
      "outputs": [
        {
          "output_type": "execute_result",
          "data": {
            "text/plain": [
              "<function matplotlib.pyplot.legend(*args, **kwargs)>"
            ]
          },
          "metadata": {},
          "execution_count": 21
        },
        {
          "output_type": "display_data",
          "data": {
            "text/plain": [
              "<Figure size 640x480 with 1 Axes>"
            ],
            "image/png": "[encoded data removed]"
          },
          "metadata": {}
        }
      ]
    },
    {
      "cell_type": "code",
      "source": [
        "plt.plot(epochs, acc, 'bo', label = 'Training accuracy')\n",
        "plt.plot(epochs, val_acc, 'r-', label = 'Validation accuracy')\n",
        "plt.title('Training and Validation accuracy')\n",
        "plt.xlabel('Epochs')\n",
        "plt.ylabel('Accuracy')\n",
        "plt.legend"
      ],
      "metadata": {
        "colab": {
          "base_uri": "https://localhost:8080/",
          "height": 490
        },
        "id": "5K8rw4S6xl93",
        "outputId": "9a244c9a-6150-43b1-afc9-9f96ebf3cd48"
      },
      "execution_count": 22,
      "outputs": [
        {
          "output_type": "execute_result",
          "data": {
            "text/plain": [
              "<function matplotlib.pyplot.legend(*args, **kwargs)>"
            ]
          },
          "metadata": {},
          "execution_count": 22
        },
        {
          "output_type": "display_data",
          "data": {
            "text/plain": [
              "<Figure size 640x480 with 1 Axes>"
            ],
            "image/png": "[encoded data removed]"
          },
          "metadata": {}
        }
      ]
    },
    {
      "cell_type": "code",
      "source": [
        "# 검증된 결과로 모델 재학습\n",
        "\n",
        "model = models.Sequential()\n",
        "model.add(layers.Dense(64, activation = 'relu', input_shape = (10000,)))\n",
        "model.add(layers.Dense(64, activation = 'relu'))\n",
        "model.add(layers.Dense(46, activation = 'softmax'))\n",
        "\n",
        "model.compile(optimizer = 'rmsprop',\n",
        "              loss = 'categorical_crossentropy',\n",
        "              metrics = ['accuracy'])\n",
        "\n",
        "history = model.fit(partial_x_train,\n",
        "                    partial_y_train,\n",
        "                    epochs = 11,\n",
        "                    batch_size = 512,\n",
        "                    validation_data = (x_val, y_val))\n",
        "\n",
        "eval_result = model.evaluate(x_test, one_hot_test_labels)\n",
        "print(eval_result)"
      ],
      "metadata": {
        "colab": {
          "base_uri": "https://localhost:8080/"
        },
        "id": "XgSth8vkzDTM",
        "outputId": "24d5f172-88d4-4599-947a-68d7dfcc422a"
      },
      "execution_count": 23,
      "outputs": [
        {
          "output_type": "stream",
          "name": "stdout",
          "text": [
            "Epoch 1/11\n",
            "16/16 [==============================] - 3s 63ms/step - loss: 2.9137 - accuracy: 0.4761 - val_loss: 2.0228 - val_accuracy: 0.6070\n",
            "Epoch 2/11\n",
            "16/16 [==============================] - 1s 37ms/step - loss: 1.6815 - accuracy: 0.6635 - val_loss: 1.4693 - val_accuracy: 0.6840\n",
            "Epoch 3/11\n",
            "16/16 [==============================] - 1s 33ms/step - loss: 1.2613 - accuracy: 0.7274 - val_loss: 1.2466 - val_accuracy: 0.7140\n",
            "Epoch 4/11\n",
            "16/16 [==============================] - 1s 32ms/step - loss: 1.0255 - accuracy: 0.7791 - val_loss: 1.1023 - val_accuracy: 0.7730\n",
            "Epoch 5/11\n",
            "16/16 [==============================] - 0s 31ms/step - loss: 0.8501 - accuracy: 0.8150 - val_loss: 1.0285 - val_accuracy: 0.7770\n",
            "Epoch 6/11\n",
            "16/16 [==============================] - 0s 31ms/step - loss: 0.7117 - accuracy: 0.8435 - val_loss: 0.9665 - val_accuracy: 0.8050\n",
            "Epoch 7/11\n",
            "16/16 [==============================] - 0s 31ms/step - loss: 0.5926 - accuracy: 0.8758 - val_loss: 0.9239 - val_accuracy: 0.8090\n",
            "Epoch 8/11\n",
            "16/16 [==============================] - 0s 31ms/step - loss: 0.5016 - accuracy: 0.8949 - val_loss: 0.9029 - val_accuracy: 0.8090\n",
            "Epoch 9/11\n",
            "16/16 [==============================] - 0s 31ms/step - loss: 0.4257 - accuracy: 0.9119 - val_loss: 0.8786 - val_accuracy: 0.8180\n",
            "Epoch 10/11\n",
            "16/16 [==============================] - 1s 32ms/step - loss: 0.3639 - accuracy: 0.9216 - val_loss: 0.8618 - val_accuracy: 0.8200\n",
            "Epoch 11/11\n",
            "16/16 [==============================] - 0s 31ms/step - loss: 0.3133 - accuracy: 0.9342 - val_loss: 0.8739 - val_accuracy: 0.8200\n",
            "71/71 [==============================] - 0s 2ms/step - loss: 0.9452 - accuracy: 0.7827\n",
            "[0.9452444314956665, 0.7827248573303223]\n"
          ]
        }
      ]
    },
    {
      "cell_type": "code",
      "source": [],
      "metadata": {
        "id": "KKT8GUPI1HmZ"
      },
      "execution_count": null,
      "outputs": []
    }
  ]
}